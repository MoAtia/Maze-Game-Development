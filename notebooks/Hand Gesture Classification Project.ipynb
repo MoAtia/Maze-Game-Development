{
 "cells": [
  {
   "cell_type": "code",
   "execution_count": 1,
   "metadata": {},
   "outputs": [],
   "source": [
    "# 1. Imports\n",
    "import pandas as pd\n",
    "import numpy as np\n",
    "import random\n",
    "import joblib\n",
    "\n",
    "import matplotlib.pyplot as plt\n",
    "import seaborn as sns\n",
    "\n",
    "from sklearn.model_selection import train_test_split\n",
    "from sklearn.preprocessing import StandardScaler, LabelEncoder\n",
    "\n",
    "from sklearn.svm import SVC\n",
    "from sklearn.tree import DecisionTreeClassifier\n",
    "from sklearn.ensemble import RandomForestClassifier\n",
    "import xgboost as xgb\n",
    "from xgboost import XGBClassifier\n",
    "\n",
    "from sklearn.metrics import classification_report, accuracy_score, confusion_matrix\n",
    "\n",
    "import mediapipe as mp\n",
    "import cv2\n",
    "# from sklearn.model_selection import GridSearchCV"
   ]
  },
  {
   "cell_type": "markdown",
   "metadata": {},
   "source": [
    "# 1.Make code reproducible"
   ]
  },
  {
   "cell_type": "code",
   "execution_count": 2,
   "metadata": {},
   "outputs": [],
   "source": [
    "def set_seeds(seed=42):\n",
    "    random.seed(seed)\n",
    "    np.random.seed(seed)"
   ]
  },
  {
   "cell_type": "code",
   "execution_count": 3,
   "metadata": {},
   "outputs": [],
   "source": [
    "set_seeds(42)"
   ]
  },
  {
   "cell_type": "markdown",
   "metadata": {},
   "source": [
    "# 2.Load the data"
   ]
  },
  {
   "cell_type": "code",
   "execution_count": 4,
   "metadata": {},
   "outputs": [],
   "source": [
    "df = pd.read_csv(\"hand_landmarks_data.csv\")"
   ]
  },
  {
   "cell_type": "code",
   "execution_count": 5,
   "metadata": {},
   "outputs": [
    {
     "name": "stdout",
     "output_type": "stream",
     "text": [
      "Data shape: (25675, 64)\n"
     ]
    },
    {
     "data": {
      "text/html": [
       "<div>\n",
       "<style scoped>\n",
       "    .dataframe tbody tr th:only-of-type {\n",
       "        vertical-align: middle;\n",
       "    }\n",
       "\n",
       "    .dataframe tbody tr th {\n",
       "        vertical-align: top;\n",
       "    }\n",
       "\n",
       "    .dataframe thead th {\n",
       "        text-align: right;\n",
       "    }\n",
       "</style>\n",
       "<table border=\"1\" class=\"dataframe\">\n",
       "  <thead>\n",
       "    <tr style=\"text-align: right;\">\n",
       "      <th></th>\n",
       "      <th>x1</th>\n",
       "      <th>y1</th>\n",
       "      <th>z1</th>\n",
       "      <th>x2</th>\n",
       "      <th>y2</th>\n",
       "      <th>z2</th>\n",
       "      <th>x3</th>\n",
       "      <th>y3</th>\n",
       "      <th>z3</th>\n",
       "      <th>x4</th>\n",
       "      <th>...</th>\n",
       "      <th>x19</th>\n",
       "      <th>y19</th>\n",
       "      <th>z19</th>\n",
       "      <th>x20</th>\n",
       "      <th>y20</th>\n",
       "      <th>z20</th>\n",
       "      <th>x21</th>\n",
       "      <th>y21</th>\n",
       "      <th>z21</th>\n",
       "      <th>label</th>\n",
       "    </tr>\n",
       "  </thead>\n",
       "  <tbody>\n",
       "    <tr>\n",
       "      <th>0</th>\n",
       "      <td>262.669968</td>\n",
       "      <td>257.304901</td>\n",
       "      <td>-3.649205e-07</td>\n",
       "      <td>257.417542</td>\n",
       "      <td>247.109055</td>\n",
       "      <td>0.004224</td>\n",
       "      <td>246.882957</td>\n",
       "      <td>241.716827</td>\n",
       "      <td>0.005798</td>\n",
       "      <td>236.384537</td>\n",
       "      <td>...</td>\n",
       "      <td>223.345093</td>\n",
       "      <td>255.490692</td>\n",
       "      <td>-0.020450</td>\n",
       "      <td>215.043365</td>\n",
       "      <td>258.114746</td>\n",
       "      <td>-0.024577</td>\n",
       "      <td>208.006393</td>\n",
       "      <td>259.608673</td>\n",
       "      <td>-0.026722</td>\n",
       "      <td>call</td>\n",
       "    </tr>\n",
       "    <tr>\n",
       "      <th>1</th>\n",
       "      <td>83.351778</td>\n",
       "      <td>346.059113</td>\n",
       "      <td>-2.345265e-07</td>\n",
       "      <td>81.925037</td>\n",
       "      <td>328.562347</td>\n",
       "      <td>-0.011102</td>\n",
       "      <td>90.080132</td>\n",
       "      <td>311.535248</td>\n",
       "      <td>-0.021096</td>\n",
       "      <td>95.641823</td>\n",
       "      <td>...</td>\n",
       "      <td>132.451618</td>\n",
       "      <td>341.794434</td>\n",
       "      <td>-0.038175</td>\n",
       "      <td>142.773582</td>\n",
       "      <td>342.829254</td>\n",
       "      <td>-0.037336</td>\n",
       "      <td>152.431698</td>\n",
       "      <td>343.015991</td>\n",
       "      <td>-0.036136</td>\n",
       "      <td>call</td>\n",
       "    </tr>\n",
       "    <tr>\n",
       "      <th>2</th>\n",
       "      <td>187.756977</td>\n",
       "      <td>260.235492</td>\n",
       "      <td>-2.417307e-07</td>\n",
       "      <td>195.460579</td>\n",
       "      <td>241.506035</td>\n",
       "      <td>-0.000184</td>\n",
       "      <td>207.259529</td>\n",
       "      <td>223.674339</td>\n",
       "      <td>-0.009687</td>\n",
       "      <td>215.413628</td>\n",
       "      <td>...</td>\n",
       "      <td>250.301010</td>\n",
       "      <td>268.602938</td>\n",
       "      <td>-0.044068</td>\n",
       "      <td>262.425133</td>\n",
       "      <td>271.276638</td>\n",
       "      <td>-0.040469</td>\n",
       "      <td>272.989952</td>\n",
       "      <td>272.272231</td>\n",
       "      <td>-0.038301</td>\n",
       "      <td>call</td>\n",
       "    </tr>\n",
       "    <tr>\n",
       "      <th>3</th>\n",
       "      <td>114.976696</td>\n",
       "      <td>331.594238</td>\n",
       "      <td>-1.233261e-07</td>\n",
       "      <td>114.503494</td>\n",
       "      <td>320.549957</td>\n",
       "      <td>-0.002824</td>\n",
       "      <td>116.636627</td>\n",
       "      <td>310.080994</td>\n",
       "      <td>-0.008911</td>\n",
       "      <td>117.685066</td>\n",
       "      <td>...</td>\n",
       "      <td>145.195450</td>\n",
       "      <td>329.357544</td>\n",
       "      <td>-0.027622</td>\n",
       "      <td>151.053200</td>\n",
       "      <td>329.712341</td>\n",
       "      <td>-0.027863</td>\n",
       "      <td>155.990364</td>\n",
       "      <td>329.548828</td>\n",
       "      <td>-0.027723</td>\n",
       "      <td>call</td>\n",
       "    </tr>\n",
       "    <tr>\n",
       "      <th>4</th>\n",
       "      <td>188.795288</td>\n",
       "      <td>141.727867</td>\n",
       "      <td>-1.622995e-07</td>\n",
       "      <td>188.520905</td>\n",
       "      <td>127.947464</td>\n",
       "      <td>-0.002884</td>\n",
       "      <td>191.982880</td>\n",
       "      <td>111.010563</td>\n",
       "      <td>-0.008115</td>\n",
       "      <td>192.552521</td>\n",
       "      <td>...</td>\n",
       "      <td>226.696396</td>\n",
       "      <td>132.263248</td>\n",
       "      <td>-0.025113</td>\n",
       "      <td>234.831741</td>\n",
       "      <td>130.684147</td>\n",
       "      <td>-0.024087</td>\n",
       "      <td>241.587769</td>\n",
       "      <td>128.477188</td>\n",
       "      <td>-0.023486</td>\n",
       "      <td>call</td>\n",
       "    </tr>\n",
       "  </tbody>\n",
       "</table>\n",
       "<p>5 rows × 64 columns</p>\n",
       "</div>"
      ],
      "text/plain": [
       "           x1          y1            z1          x2          y2        z2  \\\n",
       "0  262.669968  257.304901 -3.649205e-07  257.417542  247.109055  0.004224   \n",
       "1   83.351778  346.059113 -2.345265e-07   81.925037  328.562347 -0.011102   \n",
       "2  187.756977  260.235492 -2.417307e-07  195.460579  241.506035 -0.000184   \n",
       "3  114.976696  331.594238 -1.233261e-07  114.503494  320.549957 -0.002824   \n",
       "4  188.795288  141.727867 -1.622995e-07  188.520905  127.947464 -0.002884   \n",
       "\n",
       "           x3          y3        z3          x4  ...         x19         y19  \\\n",
       "0  246.882957  241.716827  0.005798  236.384537  ...  223.345093  255.490692   \n",
       "1   90.080132  311.535248 -0.021096   95.641823  ...  132.451618  341.794434   \n",
       "2  207.259529  223.674339 -0.009687  215.413628  ...  250.301010  268.602938   \n",
       "3  116.636627  310.080994 -0.008911  117.685066  ...  145.195450  329.357544   \n",
       "4  191.982880  111.010563 -0.008115  192.552521  ...  226.696396  132.263248   \n",
       "\n",
       "        z19         x20         y20       z20         x21         y21  \\\n",
       "0 -0.020450  215.043365  258.114746 -0.024577  208.006393  259.608673   \n",
       "1 -0.038175  142.773582  342.829254 -0.037336  152.431698  343.015991   \n",
       "2 -0.044068  262.425133  271.276638 -0.040469  272.989952  272.272231   \n",
       "3 -0.027622  151.053200  329.712341 -0.027863  155.990364  329.548828   \n",
       "4 -0.025113  234.831741  130.684147 -0.024087  241.587769  128.477188   \n",
       "\n",
       "        z21  label  \n",
       "0 -0.026722   call  \n",
       "1 -0.036136   call  \n",
       "2 -0.038301   call  \n",
       "3 -0.027723   call  \n",
       "4 -0.023486   call  \n",
       "\n",
       "[5 rows x 64 columns]"
      ]
     },
     "execution_count": 5,
     "metadata": {},
     "output_type": "execute_result"
    }
   ],
   "source": [
    "print(\"Data shape:\", df.shape)\n",
    "df.head()"
   ]
  },
  {
   "cell_type": "markdown",
   "metadata": {},
   "source": [
    "# 3.Data Exploration"
   ]
  },
  {
   "cell_type": "markdown",
   "metadata": {},
   "source": [
    "## 3.1 Visualize sample"
   ]
  },
  {
   "cell_type": "code",
   "execution_count": 6,
   "metadata": {},
   "outputs": [],
   "source": [
    "def plot_sample(sample_vis):\n",
    "  for k in range(len(sample_vis)):\n",
    "    row = sample_vis.iloc[k]\n",
    "\n",
    "    # Extract x and y\n",
    "    x = [row[f'x{i}'] for i in range(1,22)]\n",
    "    y = [row[f'y{i}'] for i in range(1,22)]\n",
    "    print(len(x))\n",
    "    # Plot\n",
    "    plt.figure(figsize=(6, 6))\n",
    "    plt.scatter(x, y, c='blue')\n",
    "\n",
    "    # Optionally connect in order\n",
    "    # for i in range(20):\n",
    "    #     plt.plot([x[i], x[i+1]], [y[i], y[i+1]], color='gray')\n",
    "\n",
    "    # Invert Y-axis to match image coordinates\n",
    "    plt.gca().invert_yaxis()\n",
    "\n",
    "    # plt.title(row[\"label\"])\n",
    "    plt.xlabel(\"X\")\n",
    "    plt.ylabel(\"Y\")\n",
    "    plt.grid(True)\n",
    "    plt.axis(\"equal\")  # Keep aspect ratio square\n",
    "    plt.show()\n"
   ]
  },
  {
   "cell_type": "code",
   "execution_count": 7,
   "metadata": {},
   "outputs": [
    {
     "name": "stdout",
     "output_type": "stream",
     "text": [
      "21\n"
     ]
    },
    {
     "data": {
      "image/png": "[encoded data removed]",
      "text/plain": [
       "<Figure size 600x600 with 1 Axes>"
      ]
     },
     "metadata": {},
     "output_type": "display_data"
    },
    {
     "name": "stdout",
     "output_type": "stream",
     "text": [
      "21\n"
     ]
    },
    {
     "data": {
      "image/png": "[encoded data removed]",
      "text/plain": [
       "<Figure size 600x600 with 1 Axes>"
      ]
     },
     "metadata": {},
     "output_type": "display_data"
    },
    {
     "name": "stdout",
     "output_type": "stream",
     "text": [
      "21\n"
     ]
    },
    {
     "data": {
      "image/png": "[encoded data removed]",
      "text/plain": [
       "<Figure size 600x600 with 1 Axes>"
      ]
     },
     "metadata": {},
     "output_type": "display_data"
    },
    {
     "name": "stdout",
     "output_type": "stream",
     "text": [
      "21\n"
     ]
    },
    {
     "data": {
      "image/png": "[encoded data removed]",
      "text/plain": [
       "<Figure size 600x600 with 1 Axes>"
      ]
     },
     "metadata": {},
     "output_type": "display_data"
    },
    {
     "name": "stdout",
     "output_type": "stream",
     "text": [
      "21\n"
     ]
    },
    {
     "data": {
      "image/png": "[encoded data removed]",
      "text/plain": [
       "<Figure size 600x600 with 1 Axes>"
      ]
     },
     "metadata": {},
     "output_type": "display_data"
    }
   ],
   "source": [
    "plot_sample(df.sample(5, random_state=42))"
   ]
  },
  {
   "cell_type": "markdown",
   "metadata": {},
   "source": [
    "## 3.2 Checking Nulls"
   ]
  },
  {
   "cell_type": "code",
   "execution_count": 8,
   "metadata": {},
   "outputs": [
    {
     "data": {
      "text/plain": [
       "0"
      ]
     },
     "execution_count": 8,
     "metadata": {},
     "output_type": "execute_result"
    }
   ],
   "source": [
    "df.isna().sum().sum()"
   ]
  },
  {
   "cell_type": "code",
   "execution_count": 9,
   "metadata": {},
   "outputs": [
    {
     "name": "stdout",
     "output_type": "stream",
     "text": [
      "<class 'pandas.core.frame.DataFrame'>\n",
      "RangeIndex: 25675 entries, 0 to 25674\n",
      "Data columns (total 64 columns):\n",
      " #   Column  Non-Null Count  Dtype  \n",
      "---  ------  --------------  -----  \n",
      " 0   x1      25675 non-null  float64\n",
      " 1   y1      25675 non-null  float64\n",
      " 2   z1      25675 non-null  float64\n",
      " 3   x2      25675 non-null  float64\n",
      " 4   y2      25675 non-null  float64\n",
      " 5   z2      25675 non-null  float64\n",
      " 6   x3      25675 non-null  float64\n",
      " 7   y3      25675 non-null  float64\n",
      " 8   z3      25675 non-null  float64\n",
      " 9   x4      25675 non-null  float64\n",
      " 10  y4      25675 non-null  float64\n",
      " 11  z4      25675 non-null  float64\n",
      " 12  x5      25675 non-null  float64\n",
      " 13  y5      25675 non-null  float64\n",
      " 14  z5      25675 non-null  float64\n",
      " 15  x6      25675 non-null  float64\n",
      " 16  y6      25675 non-null  float64\n",
      " 17  z6      25675 non-null  float64\n",
      " 18  x7      25675 non-null  float64\n",
      " 19  y7      25675 non-null  float64\n",
      " 20  z7      25675 non-null  float64\n",
      " 21  x8      25675 non-null  float64\n",
      " 22  y8      25675 non-null  float64\n",
      " 23  z8      25675 non-null  float64\n",
      " 24  x9      25675 non-null  float64\n",
      " 25  y9      25675 non-null  float64\n",
      " 26  z9      25675 non-null  float64\n",
      " 27  x10     25675 non-null  float64\n",
      " 28  y10     25675 non-null  float64\n",
      " 29  z10     25675 non-null  float64\n",
      " 30  x11     25675 non-null  float64\n",
      " 31  y11     25675 non-null  float64\n",
      " 32  z11     25675 non-null  float64\n",
      " 33  x12     25675 non-null  float64\n",
      " 34  y12     25675 non-null  float64\n",
      " 35  z12     25675 non-null  float64\n",
      " 36  x13     25675 non-null  float64\n",
      " 37  y13     25675 non-null  float64\n",
      " 38  z13     25675 non-null  float64\n",
      " 39  x14     25675 non-null  float64\n",
      " 40  y14     25675 non-null  float64\n",
      " 41  z14     25675 non-null  float64\n",
      " 42  x15     25675 non-null  float64\n",
      " 43  y15     25675 non-null  float64\n",
      " 44  z15     25675 non-null  float64\n",
      " 45  x16     25675 non-null  float64\n",
      " 46  y16     25675 non-null  float64\n",
      " 47  z16     25675 non-null  float64\n",
      " 48  x17     25675 non-null  float64\n",
      " 49  y17     25675 non-null  float64\n",
      " 50  z17     25675 non-null  float64\n",
      " 51  x18     25675 non-null  float64\n",
      " 52  y18     25675 non-null  float64\n",
      " 53  z18     25675 non-null  float64\n",
      " 54  x19     25675 non-null  float64\n",
      " 55  y19     25675 non-null  float64\n",
      " 56  z19     25675 non-null  float64\n",
      " 57  x20     25675 non-null  float64\n",
      " 58  y20     25675 non-null  float64\n",
      " 59  z20     25675 non-null  float64\n",
      " 60  x21     25675 non-null  float64\n",
      " 61  y21     25675 non-null  float64\n",
      " 62  z21     25675 non-null  float64\n",
      " 63  label   25675 non-null  object \n",
      "dtypes: float64(63), object(1)\n",
      "memory usage: 12.5+ MB\n"
     ]
    }
   ],
   "source": [
    "df.info()"
   ]
  },
  {
   "cell_type": "markdown",
   "metadata": {},
   "source": [
    "## 3.3 Data balance"
   ]
  },
  {
   "cell_type": "code",
   "execution_count": 10,
   "metadata": {},
   "outputs": [
    {
     "data": {
      "image/png": "[encoded data removed]",
      "text/plain": [
       "<Figure size 1000x500 with 1 Axes>"
      ]
     },
     "metadata": {},
     "output_type": "display_data"
    }
   ],
   "source": [
    "df['label'].value_counts().plot(kind='bar', figsize=(10,5), title='Gesture Class Distribution')\n",
    "plt.xlabel(\"Gesture Class\")\n",
    "plt.ylabel(\"Count\")\n",
    "plt.xticks(rotation=45)\n",
    "plt.tight_layout()\n",
    "plt.show()\n"
   ]
  },
  {
   "cell_type": "markdown",
   "metadata": {},
   "source": [
    "Data Almost balanced"
   ]
  },
  {
   "cell_type": "markdown",
   "metadata": {},
   "source": [
    "## 3.4 Data Statistics Summary"
   ]
  },
  {
   "cell_type": "code",
   "execution_count": 11,
   "metadata": {},
   "outputs": [
    {
     "data": {
      "text/html": [
       "<div>\n",
       "<style scoped>\n",
       "    .dataframe tbody tr th:only-of-type {\n",
       "        vertical-align: middle;\n",
       "    }\n",
       "\n",
       "    .dataframe tbody tr th {\n",
       "        vertical-align: top;\n",
       "    }\n",
       "\n",
       "    .dataframe thead th {\n",
       "        text-align: right;\n",
       "    }\n",
       "</style>\n",
       "<table border=\"1\" class=\"dataframe\">\n",
       "  <thead>\n",
       "    <tr style=\"text-align: right;\">\n",
       "      <th></th>\n",
       "      <th>x1</th>\n",
       "      <th>y1</th>\n",
       "      <th>z1</th>\n",
       "      <th>x2</th>\n",
       "      <th>y2</th>\n",
       "      <th>z2</th>\n",
       "      <th>x3</th>\n",
       "      <th>y3</th>\n",
       "      <th>z3</th>\n",
       "      <th>x4</th>\n",
       "      <th>...</th>\n",
       "      <th>z18</th>\n",
       "      <th>x19</th>\n",
       "      <th>y19</th>\n",
       "      <th>z19</th>\n",
       "      <th>x20</th>\n",
       "      <th>y20</th>\n",
       "      <th>z20</th>\n",
       "      <th>x21</th>\n",
       "      <th>y21</th>\n",
       "      <th>z21</th>\n",
       "    </tr>\n",
       "  </thead>\n",
       "  <tbody>\n",
       "    <tr>\n",
       "      <th>count</th>\n",
       "      <td>25675.000000</td>\n",
       "      <td>25675.000000</td>\n",
       "      <td>2.567500e+04</td>\n",
       "      <td>25675.000000</td>\n",
       "      <td>25675.000000</td>\n",
       "      <td>25675.000000</td>\n",
       "      <td>25675.000000</td>\n",
       "      <td>25675.000000</td>\n",
       "      <td>25675.000000</td>\n",
       "      <td>25675.000000</td>\n",
       "      <td>...</td>\n",
       "      <td>25675.000000</td>\n",
       "      <td>25675.000000</td>\n",
       "      <td>25675.000000</td>\n",
       "      <td>25675.000000</td>\n",
       "      <td>25675.000000</td>\n",
       "      <td>25675.000000</td>\n",
       "      <td>25675.000000</td>\n",
       "      <td>25675.000000</td>\n",
       "      <td>25675.000000</td>\n",
       "      <td>25675.000000</td>\n",
       "    </tr>\n",
       "    <tr>\n",
       "      <th>mean</th>\n",
       "      <td>201.958632</td>\n",
       "      <td>260.158527</td>\n",
       "      <td>1.272461e-07</td>\n",
       "      <td>202.517395</td>\n",
       "      <td>252.115322</td>\n",
       "      <td>-0.009465</td>\n",
       "      <td>202.862981</td>\n",
       "      <td>240.645966</td>\n",
       "      <td>-0.015946</td>\n",
       "      <td>203.025267</td>\n",
       "      <td>...</td>\n",
       "      <td>-0.024129</td>\n",
       "      <td>201.792374</td>\n",
       "      <td>227.455597</td>\n",
       "      <td>-0.033751</td>\n",
       "      <td>201.811275</td>\n",
       "      <td>227.802576</td>\n",
       "      <td>-0.032208</td>\n",
       "      <td>201.874802</td>\n",
       "      <td>227.807287</td>\n",
       "      <td>-0.028828</td>\n",
       "    </tr>\n",
       "    <tr>\n",
       "      <th>std</th>\n",
       "      <td>90.500333</td>\n",
       "      <td>76.533210</td>\n",
       "      <td>2.737932e-07</td>\n",
       "      <td>84.770933</td>\n",
       "      <td>75.384691</td>\n",
       "      <td>0.010376</td>\n",
       "      <td>80.412089</td>\n",
       "      <td>74.721921</td>\n",
       "      <td>0.013973</td>\n",
       "      <td>79.647588</td>\n",
       "      <td>...</td>\n",
       "      <td>0.015658</td>\n",
       "      <td>94.046497</td>\n",
       "      <td>77.231210</td>\n",
       "      <td>0.020453</td>\n",
       "      <td>93.664595</td>\n",
       "      <td>78.441253</td>\n",
       "      <td>0.020877</td>\n",
       "      <td>93.547017</td>\n",
       "      <td>79.963438</td>\n",
       "      <td>0.021136</td>\n",
       "    </tr>\n",
       "    <tr>\n",
       "      <th>min</th>\n",
       "      <td>-36.050926</td>\n",
       "      <td>45.722923</td>\n",
       "      <td>-2.029986e-06</td>\n",
       "      <td>7.184681</td>\n",
       "      <td>51.256840</td>\n",
       "      <td>-0.096630</td>\n",
       "      <td>25.114323</td>\n",
       "      <td>45.489950</td>\n",
       "      <td>-0.155846</td>\n",
       "      <td>23.446341</td>\n",
       "      <td>...</td>\n",
       "      <td>-0.201897</td>\n",
       "      <td>0.198635</td>\n",
       "      <td>20.146784</td>\n",
       "      <td>-0.286821</td>\n",
       "      <td>3.278137</td>\n",
       "      <td>32.158108</td>\n",
       "      <td>-0.286470</td>\n",
       "      <td>-4.537216</td>\n",
       "      <td>23.226204</td>\n",
       "      <td>-0.262047</td>\n",
       "    </tr>\n",
       "    <tr>\n",
       "      <th>25%</th>\n",
       "      <td>124.110329</td>\n",
       "      <td>205.815950</td>\n",
       "      <td>-5.243216e-08</td>\n",
       "      <td>130.535929</td>\n",
       "      <td>197.999625</td>\n",
       "      <td>-0.015199</td>\n",
       "      <td>136.711035</td>\n",
       "      <td>187.018583</td>\n",
       "      <td>-0.023020</td>\n",
       "      <td>138.905817</td>\n",
       "      <td>...</td>\n",
       "      <td>-0.030728</td>\n",
       "      <td>126.828913</td>\n",
       "      <td>172.720392</td>\n",
       "      <td>-0.042726</td>\n",
       "      <td>126.887403</td>\n",
       "      <td>172.345467</td>\n",
       "      <td>-0.041957</td>\n",
       "      <td>126.356627</td>\n",
       "      <td>172.083794</td>\n",
       "      <td>-0.039220</td>\n",
       "    </tr>\n",
       "    <tr>\n",
       "      <th>50%</th>\n",
       "      <td>199.667847</td>\n",
       "      <td>255.181793</td>\n",
       "      <td>1.497277e-07</td>\n",
       "      <td>199.979530</td>\n",
       "      <td>247.113892</td>\n",
       "      <td>-0.008737</td>\n",
       "      <td>200.092758</td>\n",
       "      <td>235.776978</td>\n",
       "      <td>-0.014231</td>\n",
       "      <td>200.482040</td>\n",
       "      <td>...</td>\n",
       "      <td>-0.020969</td>\n",
       "      <td>197.579865</td>\n",
       "      <td>221.781479</td>\n",
       "      <td>-0.029942</td>\n",
       "      <td>197.591736</td>\n",
       "      <td>222.381149</td>\n",
       "      <td>-0.028510</td>\n",
       "      <td>197.453270</td>\n",
       "      <td>222.485229</td>\n",
       "      <td>-0.025269</td>\n",
       "    </tr>\n",
       "    <tr>\n",
       "      <th>75%</th>\n",
       "      <td>266.428482</td>\n",
       "      <td>304.991663</td>\n",
       "      <td>2.989988e-07</td>\n",
       "      <td>261.147457</td>\n",
       "      <td>296.850769</td>\n",
       "      <td>-0.002783</td>\n",
       "      <td>255.876354</td>\n",
       "      <td>284.925993</td>\n",
       "      <td>-0.007134</td>\n",
       "      <td>254.622768</td>\n",
       "      <td>...</td>\n",
       "      <td>-0.013661</td>\n",
       "      <td>268.103920</td>\n",
       "      <td>273.190765</td>\n",
       "      <td>-0.019987</td>\n",
       "      <td>267.745743</td>\n",
       "      <td>274.196884</td>\n",
       "      <td>-0.017971</td>\n",
       "      <td>267.324657</td>\n",
       "      <td>275.805222</td>\n",
       "      <td>-0.014294</td>\n",
       "    </tr>\n",
       "    <tr>\n",
       "      <th>max</th>\n",
       "      <td>633.556020</td>\n",
       "      <td>781.674469</td>\n",
       "      <td>1.876254e-06</td>\n",
       "      <td>606.232386</td>\n",
       "      <td>751.869416</td>\n",
       "      <td>0.076365</td>\n",
       "      <td>598.541348</td>\n",
       "      <td>719.365010</td>\n",
       "      <td>0.094131</td>\n",
       "      <td>607.999801</td>\n",
       "      <td>...</td>\n",
       "      <td>0.031774</td>\n",
       "      <td>632.923029</td>\n",
       "      <td>779.419948</td>\n",
       "      <td>0.078105</td>\n",
       "      <td>638.134761</td>\n",
       "      <td>760.854103</td>\n",
       "      <td>0.104580</td>\n",
       "      <td>641.788521</td>\n",
       "      <td>760.554894</td>\n",
       "      <td>0.118668</td>\n",
       "    </tr>\n",
       "  </tbody>\n",
       "</table>\n",
       "<p>8 rows × 63 columns</p>\n",
       "</div>"
      ],
      "text/plain": [
       "                 x1            y1            z1            x2            y2  \\\n",
       "count  25675.000000  25675.000000  2.567500e+04  25675.000000  25675.000000   \n",
       "mean     201.958632    260.158527  1.272461e-07    202.517395    252.115322   \n",
       "std       90.500333     76.533210  2.737932e-07     84.770933     75.384691   \n",
       "min      -36.050926     45.722923 -2.029986e-06      7.184681     51.256840   \n",
       "25%      124.110329    205.815950 -5.243216e-08    130.535929    197.999625   \n",
       "50%      199.667847    255.181793  1.497277e-07    199.979530    247.113892   \n",
       "75%      266.428482    304.991663  2.989988e-07    261.147457    296.850769   \n",
       "max      633.556020    781.674469  1.876254e-06    606.232386    751.869416   \n",
       "\n",
       "                 z2            x3            y3            z3            x4  \\\n",
       "count  25675.000000  25675.000000  25675.000000  25675.000000  25675.000000   \n",
       "mean      -0.009465    202.862981    240.645966     -0.015946    203.025267   \n",
       "std        0.010376     80.412089     74.721921      0.013973     79.647588   \n",
       "min       -0.096630     25.114323     45.489950     -0.155846     23.446341   \n",
       "25%       -0.015199    136.711035    187.018583     -0.023020    138.905817   \n",
       "50%       -0.008737    200.092758    235.776978     -0.014231    200.482040   \n",
       "75%       -0.002783    255.876354    284.925993     -0.007134    254.622768   \n",
       "max        0.076365    598.541348    719.365010      0.094131    607.999801   \n",
       "\n",
       "       ...           z18           x19           y19           z19  \\\n",
       "count  ...  25675.000000  25675.000000  25675.000000  25675.000000   \n",
       "mean   ...     -0.024129    201.792374    227.455597     -0.033751   \n",
       "std    ...      0.015658     94.046497     77.231210      0.020453   \n",
       "min    ...     -0.201897      0.198635     20.146784     -0.286821   \n",
       "25%    ...     -0.030728    126.828913    172.720392     -0.042726   \n",
       "50%    ...     -0.020969    197.579865    221.781479     -0.029942   \n",
       "75%    ...     -0.013661    268.103920    273.190765     -0.019987   \n",
       "max    ...      0.031774    632.923029    779.419948      0.078105   \n",
       "\n",
       "                x20           y20           z20           x21           y21  \\\n",
       "count  25675.000000  25675.000000  25675.000000  25675.000000  25675.000000   \n",
       "mean     201.811275    227.802576     -0.032208    201.874802    227.807287   \n",
       "std       93.664595     78.441253      0.020877     93.547017     79.963438   \n",
       "min        3.278137     32.158108     -0.286470     -4.537216     23.226204   \n",
       "25%      126.887403    172.345467     -0.041957    126.356627    172.083794   \n",
       "50%      197.591736    222.381149     -0.028510    197.453270    222.485229   \n",
       "75%      267.745743    274.196884     -0.017971    267.324657    275.805222   \n",
       "max      638.134761    760.854103      0.104580    641.788521    760.554894   \n",
       "\n",
       "                z21  \n",
       "count  25675.000000  \n",
       "mean      -0.028828  \n",
       "std        0.021136  \n",
       "min       -0.262047  \n",
       "25%       -0.039220  \n",
       "50%       -0.025269  \n",
       "75%       -0.014294  \n",
       "max        0.118668  \n",
       "\n",
       "[8 rows x 63 columns]"
      ]
     },
     "execution_count": 11,
     "metadata": {},
     "output_type": "execute_result"
    }
   ],
   "source": [
    "df.describe()"
   ]
  },
  {
   "cell_type": "code",
   "execution_count": 12,
   "metadata": {},
   "outputs": [
    {
     "data": {
      "text/plain": [
       "<Axes: >"
      ]
     },
     "execution_count": 12,
     "metadata": {},
     "output_type": "execute_result"
    },
    {
     "data": {
      "image/png": "[encoded data removed]",
      "text/plain": [
       "<Figure size 2400x600 with 1 Axes>"
      ]
     },
     "metadata": {},
     "output_type": "display_data"
    }
   ],
   "source": [
    "plt.figure(figsize=(24,6))\n",
    "sns.boxplot(df.drop(\"label\", axis=1))"
   ]
  },
  {
   "cell_type": "markdown",
   "metadata": {},
   "source": [
    "# 4.Preprocessing"
   ]
  },
  {
   "cell_type": "code",
   "execution_count": 13,
   "metadata": {},
   "outputs": [],
   "source": [
    "data = df.drop(columns=['label'])\n",
    "labels = df['label']"
   ]
  },
  {
   "cell_type": "markdown",
   "metadata": {},
   "source": [
    "## 4.1 Normalization"
   ]
  },
  {
   "cell_type": "code",
   "execution_count": 14,
   "metadata": {},
   "outputs": [],
   "source": [
    "# Centering by wrist, and scaling by middle finger tip\n",
    "def normalize_landmarks(row):\n",
    "    coords = row.values.reshape(-1, 3)\n",
    "    wrist = coords[0][:2]  # x, y of wrist\n",
    "    mid_tip = coords[12][:2]  # x, y of middle finger tip\n",
    "    scale = np.linalg.norm(mid_tip - wrist)\n",
    "    coords[:, :2] = (coords[:, :2] - wrist) / (scale + 1e-6)\n",
    "    return coords.flatten()"
   ]
  },
  {
   "cell_type": "code",
   "execution_count": 15,
   "metadata": {},
   "outputs": [],
   "source": [
    "normalized_data = data.apply(normalize_landmarks, axis=1, result_type='expand')"
   ]
  },
  {
   "cell_type": "code",
   "execution_count": 16,
   "metadata": {},
   "outputs": [],
   "source": [
    "normalized_data.columns = data.columns"
   ]
  },
  {
   "cell_type": "code",
   "execution_count": 17,
   "metadata": {},
   "outputs": [
    {
     "data": {
      "text/html": [
       "<div>\n",
       "<style scoped>\n",
       "    .dataframe tbody tr th:only-of-type {\n",
       "        vertical-align: middle;\n",
       "    }\n",
       "\n",
       "    .dataframe tbody tr th {\n",
       "        vertical-align: top;\n",
       "    }\n",
       "\n",
       "    .dataframe thead th {\n",
       "        text-align: right;\n",
       "    }\n",
       "</style>\n",
       "<table border=\"1\" class=\"dataframe\">\n",
       "  <thead>\n",
       "    <tr style=\"text-align: right;\">\n",
       "      <th></th>\n",
       "      <th>x1</th>\n",
       "      <th>y1</th>\n",
       "      <th>z1</th>\n",
       "      <th>x2</th>\n",
       "      <th>y2</th>\n",
       "      <th>z2</th>\n",
       "      <th>x3</th>\n",
       "      <th>y3</th>\n",
       "      <th>z3</th>\n",
       "      <th>x4</th>\n",
       "      <th>...</th>\n",
       "      <th>z18</th>\n",
       "      <th>x19</th>\n",
       "      <th>y19</th>\n",
       "      <th>z19</th>\n",
       "      <th>x20</th>\n",
       "      <th>y20</th>\n",
       "      <th>z20</th>\n",
       "      <th>x21</th>\n",
       "      <th>y21</th>\n",
       "      <th>z21</th>\n",
       "    </tr>\n",
       "  </thead>\n",
       "  <tbody>\n",
       "    <tr>\n",
       "      <th>0</th>\n",
       "      <td>0.0</td>\n",
       "      <td>0.0</td>\n",
       "      <td>-3.649205e-07</td>\n",
       "      <td>-0.169097</td>\n",
       "      <td>-0.328246</td>\n",
       "      <td>0.004224</td>\n",
       "      <td>-0.508248</td>\n",
       "      <td>-0.501843</td>\n",
       "      <td>0.005798</td>\n",
       "      <td>-0.846234</td>\n",
       "      <td>...</td>\n",
       "      <td>-0.013198</td>\n",
       "      <td>-1.266027</td>\n",
       "      <td>-0.058407</td>\n",
       "      <td>-0.020450</td>\n",
       "      <td>-1.533293</td>\n",
       "      <td>0.026072</td>\n",
       "      <td>-0.024577</td>\n",
       "      <td>-1.759842</td>\n",
       "      <td>0.074168</td>\n",
       "      <td>-0.026722</td>\n",
       "    </tr>\n",
       "    <tr>\n",
       "      <th>1</th>\n",
       "      <td>0.0</td>\n",
       "      <td>0.0</td>\n",
       "      <td>-2.345265e-07</td>\n",
       "      <td>-0.040618</td>\n",
       "      <td>-0.498120</td>\n",
       "      <td>-0.011102</td>\n",
       "      <td>0.191551</td>\n",
       "      <td>-0.982869</td>\n",
       "      <td>-0.021096</td>\n",
       "      <td>0.349889</td>\n",
       "      <td>...</td>\n",
       "      <td>-0.029042</td>\n",
       "      <td>1.397837</td>\n",
       "      <td>-0.121412</td>\n",
       "      <td>-0.038175</td>\n",
       "      <td>1.691695</td>\n",
       "      <td>-0.091952</td>\n",
       "      <td>-0.037336</td>\n",
       "      <td>1.966655</td>\n",
       "      <td>-0.086635</td>\n",
       "      <td>-0.036136</td>\n",
       "    </tr>\n",
       "    <tr>\n",
       "      <th>2</th>\n",
       "      <td>0.0</td>\n",
       "      <td>0.0</td>\n",
       "      <td>-2.417307e-07</td>\n",
       "      <td>0.172978</td>\n",
       "      <td>-0.420554</td>\n",
       "      <td>-0.000184</td>\n",
       "      <td>0.437913</td>\n",
       "      <td>-0.820949</td>\n",
       "      <td>-0.009687</td>\n",
       "      <td>0.621006</td>\n",
       "      <td>...</td>\n",
       "      <td>-0.041256</td>\n",
       "      <td>1.404372</td>\n",
       "      <td>0.187884</td>\n",
       "      <td>-0.044068</td>\n",
       "      <td>1.676609</td>\n",
       "      <td>0.247919</td>\n",
       "      <td>-0.040469</td>\n",
       "      <td>1.913833</td>\n",
       "      <td>0.270275</td>\n",
       "      <td>-0.038301</td>\n",
       "    </tr>\n",
       "    <tr>\n",
       "      <th>3</th>\n",
       "      <td>0.0</td>\n",
       "      <td>0.0</td>\n",
       "      <td>-1.233261e-07</td>\n",
       "      <td>-0.020056</td>\n",
       "      <td>-0.468103</td>\n",
       "      <td>-0.002824</td>\n",
       "      <td>0.070355</td>\n",
       "      <td>-0.911821</td>\n",
       "      <td>-0.008911</td>\n",
       "      <td>0.114792</td>\n",
       "      <td>...</td>\n",
       "      <td>-0.021804</td>\n",
       "      <td>1.280797</td>\n",
       "      <td>-0.094800</td>\n",
       "      <td>-0.027622</td>\n",
       "      <td>1.529073</td>\n",
       "      <td>-0.079763</td>\n",
       "      <td>-0.027863</td>\n",
       "      <td>1.738331</td>\n",
       "      <td>-0.086693</td>\n",
       "      <td>-0.027723</td>\n",
       "    </tr>\n",
       "    <tr>\n",
       "      <th>4</th>\n",
       "      <td>0.0</td>\n",
       "      <td>0.0</td>\n",
       "      <td>-1.622995e-07</td>\n",
       "      <td>-0.009611</td>\n",
       "      <td>-0.482677</td>\n",
       "      <td>-0.002884</td>\n",
       "      <td>0.111650</td>\n",
       "      <td>-1.075914</td>\n",
       "      <td>-0.008115</td>\n",
       "      <td>0.131602</td>\n",
       "      <td>...</td>\n",
       "      <td>-0.021623</td>\n",
       "      <td>1.327537</td>\n",
       "      <td>-0.331511</td>\n",
       "      <td>-0.025113</td>\n",
       "      <td>1.612488</td>\n",
       "      <td>-0.386821</td>\n",
       "      <td>-0.024087</td>\n",
       "      <td>1.849127</td>\n",
       "      <td>-0.464123</td>\n",
       "      <td>-0.023486</td>\n",
       "    </tr>\n",
       "  </tbody>\n",
       "</table>\n",
       "<p>5 rows × 63 columns</p>\n",
       "</div>"
      ],
      "text/plain": [
       "    x1   y1            z1        x2        y2        z2        x3        y3  \\\n",
       "0  0.0  0.0 -3.649205e-07 -0.169097 -0.328246  0.004224 -0.508248 -0.501843   \n",
       "1  0.0  0.0 -2.345265e-07 -0.040618 -0.498120 -0.011102  0.191551 -0.982869   \n",
       "2  0.0  0.0 -2.417307e-07  0.172978 -0.420554 -0.000184  0.437913 -0.820949   \n",
       "3  0.0  0.0 -1.233261e-07 -0.020056 -0.468103 -0.002824  0.070355 -0.911821   \n",
       "4  0.0  0.0 -1.622995e-07 -0.009611 -0.482677 -0.002884  0.111650 -1.075914   \n",
       "\n",
       "         z3        x4  ...       z18       x19       y19       z19       x20  \\\n",
       "0  0.005798 -0.846234  ... -0.013198 -1.266027 -0.058407 -0.020450 -1.533293   \n",
       "1 -0.021096  0.349889  ... -0.029042  1.397837 -0.121412 -0.038175  1.691695   \n",
       "2 -0.009687  0.621006  ... -0.041256  1.404372  0.187884 -0.044068  1.676609   \n",
       "3 -0.008911  0.114792  ... -0.021804  1.280797 -0.094800 -0.027622  1.529073   \n",
       "4 -0.008115  0.131602  ... -0.021623  1.327537 -0.331511 -0.025113  1.612488   \n",
       "\n",
       "        y20       z20       x21       y21       z21  \n",
       "0  0.026072 -0.024577 -1.759842  0.074168 -0.026722  \n",
       "1 -0.091952 -0.037336  1.966655 -0.086635 -0.036136  \n",
       "2  0.247919 -0.040469  1.913833  0.270275 -0.038301  \n",
       "3 -0.079763 -0.027863  1.738331 -0.086693 -0.027723  \n",
       "4 -0.386821 -0.024087  1.849127 -0.464123 -0.023486  \n",
       "\n",
       "[5 rows x 63 columns]"
      ]
     },
     "execution_count": 17,
     "metadata": {},
     "output_type": "execute_result"
    }
   ],
   "source": [
    "normalized_data.head()"
   ]
  },
  {
   "cell_type": "markdown",
   "metadata": {},
   "source": [
    "## 4.2 Cleaning"
   ]
  },
  {
   "cell_type": "code",
   "execution_count": 18,
   "metadata": {},
   "outputs": [],
   "source": [
    "# normalized data after removing the wirst point\n",
    "normalized_data = normalized_data.drop([\"x1\",\"y1\",\"z1\"], axis=1)"
   ]
  },
  {
   "cell_type": "code",
   "execution_count": 19,
   "metadata": {},
   "outputs": [
    {
     "data": {
      "text/html": [
       "<div>\n",
       "<style scoped>\n",
       "    .dataframe tbody tr th:only-of-type {\n",
       "        vertical-align: middle;\n",
       "    }\n",
       "\n",
       "    .dataframe tbody tr th {\n",
       "        vertical-align: top;\n",
       "    }\n",
       "\n",
       "    .dataframe thead th {\n",
       "        text-align: right;\n",
       "    }\n",
       "</style>\n",
       "<table border=\"1\" class=\"dataframe\">\n",
       "  <thead>\n",
       "    <tr style=\"text-align: right;\">\n",
       "      <th></th>\n",
       "      <th>x2</th>\n",
       "      <th>y2</th>\n",
       "      <th>z2</th>\n",
       "      <th>x3</th>\n",
       "      <th>y3</th>\n",
       "      <th>z3</th>\n",
       "      <th>x4</th>\n",
       "      <th>y4</th>\n",
       "      <th>z4</th>\n",
       "      <th>x5</th>\n",
       "      <th>...</th>\n",
       "      <th>z18</th>\n",
       "      <th>x19</th>\n",
       "      <th>y19</th>\n",
       "      <th>z19</th>\n",
       "      <th>x20</th>\n",
       "      <th>y20</th>\n",
       "      <th>z20</th>\n",
       "      <th>x21</th>\n",
       "      <th>y21</th>\n",
       "      <th>z21</th>\n",
       "    </tr>\n",
       "  </thead>\n",
       "  <tbody>\n",
       "    <tr>\n",
       "      <th>count</th>\n",
       "      <td>25675.0</td>\n",
       "      <td>25675.0</td>\n",
       "      <td>25675.0</td>\n",
       "      <td>25675.0</td>\n",
       "      <td>25675.0</td>\n",
       "      <td>25675.0</td>\n",
       "      <td>25675.0</td>\n",
       "      <td>25675.0</td>\n",
       "      <td>25675.0</td>\n",
       "      <td>25675.0</td>\n",
       "      <td>...</td>\n",
       "      <td>25675.0</td>\n",
       "      <td>25675.0</td>\n",
       "      <td>25675.0</td>\n",
       "      <td>25675.0</td>\n",
       "      <td>25675.0</td>\n",
       "      <td>25675.0</td>\n",
       "      <td>25675.0</td>\n",
       "      <td>25675.0</td>\n",
       "      <td>25675.0</td>\n",
       "      <td>25675.0</td>\n",
       "    </tr>\n",
       "    <tr>\n",
       "      <th>mean</th>\n",
       "      <td>0.0</td>\n",
       "      <td>-0.1</td>\n",
       "      <td>-0.0</td>\n",
       "      <td>0.0</td>\n",
       "      <td>-0.3</td>\n",
       "      <td>-0.0</td>\n",
       "      <td>0.0</td>\n",
       "      <td>-0.5</td>\n",
       "      <td>-0.0</td>\n",
       "      <td>0.0</td>\n",
       "      <td>...</td>\n",
       "      <td>-0.0</td>\n",
       "      <td>0.0</td>\n",
       "      <td>-0.6</td>\n",
       "      <td>-0.0</td>\n",
       "      <td>0.0</td>\n",
       "      <td>-0.5</td>\n",
       "      <td>-0.0</td>\n",
       "      <td>0.0</td>\n",
       "      <td>-0.5</td>\n",
       "      <td>-0.0</td>\n",
       "    </tr>\n",
       "    <tr>\n",
       "      <th>std</th>\n",
       "      <td>0.2</td>\n",
       "      <td>0.2</td>\n",
       "      <td>0.0</td>\n",
       "      <td>0.4</td>\n",
       "      <td>0.4</td>\n",
       "      <td>0.0</td>\n",
       "      <td>0.5</td>\n",
       "      <td>0.6</td>\n",
       "      <td>0.0</td>\n",
       "      <td>0.5</td>\n",
       "      <td>...</td>\n",
       "      <td>0.0</td>\n",
       "      <td>0.6</td>\n",
       "      <td>0.5</td>\n",
       "      <td>0.0</td>\n",
       "      <td>0.6</td>\n",
       "      <td>0.6</td>\n",
       "      <td>0.0</td>\n",
       "      <td>0.6</td>\n",
       "      <td>0.6</td>\n",
       "      <td>0.0</td>\n",
       "    </tr>\n",
       "    <tr>\n",
       "      <th>min</th>\n",
       "      <td>-5.8</td>\n",
       "      <td>-1.4</td>\n",
       "      <td>-0.1</td>\n",
       "      <td>-13.7</td>\n",
       "      <td>-2.8</td>\n",
       "      <td>-0.2</td>\n",
       "      <td>-17.5</td>\n",
       "      <td>-3.9</td>\n",
       "      <td>-0.2</td>\n",
       "      <td>-18.0</td>\n",
       "      <td>...</td>\n",
       "      <td>-0.2</td>\n",
       "      <td>-28.5</td>\n",
       "      <td>-34.7</td>\n",
       "      <td>-0.3</td>\n",
       "      <td>-30.7</td>\n",
       "      <td>-40.2</td>\n",
       "      <td>-0.3</td>\n",
       "      <td>-32.4</td>\n",
       "      <td>-44.1</td>\n",
       "      <td>-0.3</td>\n",
       "    </tr>\n",
       "    <tr>\n",
       "      <th>25%</th>\n",
       "      <td>-0.2</td>\n",
       "      <td>-0.2</td>\n",
       "      <td>-0.0</td>\n",
       "      <td>-0.3</td>\n",
       "      <td>-0.5</td>\n",
       "      <td>-0.0</td>\n",
       "      <td>-0.3</td>\n",
       "      <td>-0.8</td>\n",
       "      <td>-0.0</td>\n",
       "      <td>-0.3</td>\n",
       "      <td>...</td>\n",
       "      <td>-0.0</td>\n",
       "      <td>-0.3</td>\n",
       "      <td>-0.6</td>\n",
       "      <td>-0.0</td>\n",
       "      <td>-0.2</td>\n",
       "      <td>-0.7</td>\n",
       "      <td>-0.0</td>\n",
       "      <td>-0.2</td>\n",
       "      <td>-0.8</td>\n",
       "      <td>-0.0</td>\n",
       "    </tr>\n",
       "    <tr>\n",
       "      <th>50%</th>\n",
       "      <td>0.1</td>\n",
       "      <td>-0.1</td>\n",
       "      <td>-0.0</td>\n",
       "      <td>0.1</td>\n",
       "      <td>-0.3</td>\n",
       "      <td>-0.0</td>\n",
       "      <td>0.0</td>\n",
       "      <td>-0.4</td>\n",
       "      <td>-0.0</td>\n",
       "      <td>0.0</td>\n",
       "      <td>...</td>\n",
       "      <td>-0.0</td>\n",
       "      <td>-0.0</td>\n",
       "      <td>-0.5</td>\n",
       "      <td>-0.0</td>\n",
       "      <td>-0.0</td>\n",
       "      <td>-0.5</td>\n",
       "      <td>-0.0</td>\n",
       "      <td>-0.0</td>\n",
       "      <td>-0.4</td>\n",
       "      <td>-0.0</td>\n",
       "    </tr>\n",
       "    <tr>\n",
       "      <th>75%</th>\n",
       "      <td>0.2</td>\n",
       "      <td>-0.1</td>\n",
       "      <td>-0.0</td>\n",
       "      <td>0.3</td>\n",
       "      <td>-0.2</td>\n",
       "      <td>-0.0</td>\n",
       "      <td>0.4</td>\n",
       "      <td>-0.3</td>\n",
       "      <td>-0.0</td>\n",
       "      <td>0.4</td>\n",
       "      <td>...</td>\n",
       "      <td>-0.0</td>\n",
       "      <td>0.3</td>\n",
       "      <td>-0.4</td>\n",
       "      <td>-0.0</td>\n",
       "      <td>0.3</td>\n",
       "      <td>-0.3</td>\n",
       "      <td>-0.0</td>\n",
       "      <td>0.2</td>\n",
       "      <td>-0.3</td>\n",
       "      <td>-0.0</td>\n",
       "    </tr>\n",
       "    <tr>\n",
       "      <th>max</th>\n",
       "      <td>1.2</td>\n",
       "      <td>8.9</td>\n",
       "      <td>0.1</td>\n",
       "      <td>1.9</td>\n",
       "      <td>18.8</td>\n",
       "      <td>0.1</td>\n",
       "      <td>2.5</td>\n",
       "      <td>30.2</td>\n",
       "      <td>0.1</td>\n",
       "      <td>3.1</td>\n",
       "      <td>...</td>\n",
       "      <td>0.0</td>\n",
       "      <td>2.9</td>\n",
       "      <td>1.2</td>\n",
       "      <td>0.1</td>\n",
       "      <td>3.6</td>\n",
       "      <td>1.4</td>\n",
       "      <td>0.1</td>\n",
       "      <td>3.9</td>\n",
       "      <td>1.7</td>\n",
       "      <td>0.1</td>\n",
       "    </tr>\n",
       "  </tbody>\n",
       "</table>\n",
       "<p>8 rows × 60 columns</p>\n",
       "</div>"
      ],
      "text/plain": [
       "            x2       y2       z2       x3       y3       z3       x4       y4  \\\n",
       "count  25675.0  25675.0  25675.0  25675.0  25675.0  25675.0  25675.0  25675.0   \n",
       "mean       0.0     -0.1     -0.0      0.0     -0.3     -0.0      0.0     -0.5   \n",
       "std        0.2      0.2      0.0      0.4      0.4      0.0      0.5      0.6   \n",
       "min       -5.8     -1.4     -0.1    -13.7     -2.8     -0.2    -17.5     -3.9   \n",
       "25%       -0.2     -0.2     -0.0     -0.3     -0.5     -0.0     -0.3     -0.8   \n",
       "50%        0.1     -0.1     -0.0      0.1     -0.3     -0.0      0.0     -0.4   \n",
       "75%        0.2     -0.1     -0.0      0.3     -0.2     -0.0      0.4     -0.3   \n",
       "max        1.2      8.9      0.1      1.9     18.8      0.1      2.5     30.2   \n",
       "\n",
       "            z4       x5  ...      z18      x19      y19      z19      x20  \\\n",
       "count  25675.0  25675.0  ...  25675.0  25675.0  25675.0  25675.0  25675.0   \n",
       "mean      -0.0      0.0  ...     -0.0      0.0     -0.6     -0.0      0.0   \n",
       "std        0.0      0.5  ...      0.0      0.6      0.5      0.0      0.6   \n",
       "min       -0.2    -18.0  ...     -0.2    -28.5    -34.7     -0.3    -30.7   \n",
       "25%       -0.0     -0.3  ...     -0.0     -0.3     -0.6     -0.0     -0.2   \n",
       "50%       -0.0      0.0  ...     -0.0     -0.0     -0.5     -0.0     -0.0   \n",
       "75%       -0.0      0.4  ...     -0.0      0.3     -0.4     -0.0      0.3   \n",
       "max        0.1      3.1  ...      0.0      2.9      1.2      0.1      3.6   \n",
       "\n",
       "           y20      z20      x21      y21      z21  \n",
       "count  25675.0  25675.0  25675.0  25675.0  25675.0  \n",
       "mean      -0.5     -0.0      0.0     -0.5     -0.0  \n",
       "std        0.6      0.0      0.6      0.6      0.0  \n",
       "min      -40.2     -0.3    -32.4    -44.1     -0.3  \n",
       "25%       -0.7     -0.0     -0.2     -0.8     -0.0  \n",
       "50%       -0.5     -0.0     -0.0     -0.4     -0.0  \n",
       "75%       -0.3     -0.0      0.2     -0.3     -0.0  \n",
       "max        1.4      0.1      3.9      1.7      0.1  \n",
       "\n",
       "[8 rows x 60 columns]"
      ]
     },
     "execution_count": 19,
     "metadata": {},
     "output_type": "execute_result"
    }
   ],
   "source": [
    "normalized_data.describe().round(1)"
   ]
  },
  {
   "cell_type": "code",
   "execution_count": 20,
   "metadata": {},
   "outputs": [],
   "source": [
    "# after normalization, Zs components have zero mean and std as shown above in data description.\n",
    "normalized_data = normalized_data.drop([f\"z{i}\" for i in range(2,22)], axis=1)"
   ]
  },
  {
   "cell_type": "markdown",
   "metadata": {},
   "source": [
    "## 4.3 Data Splitting"
   ]
  },
  {
   "cell_type": "code",
   "execution_count": 21,
   "metadata": {},
   "outputs": [],
   "source": [
    "# 4. Train-Test Split\n",
    "X_train, X_test, y_train, y_test = train_test_split(normalized_data, labels, test_size=0.2, random_state=42)"
   ]
  },
  {
   "cell_type": "markdown",
   "metadata": {},
   "source": [
    "# 5.Modeling"
   ]
  },
  {
   "cell_type": "markdown",
   "metadata": {},
   "source": [
    "## 5.1 SVM"
   ]
  },
  {
   "cell_type": "code",
   "execution_count": 22,
   "metadata": {},
   "outputs": [],
   "source": [
    "svm = SVC(C=100.0, kernel='rbf')\n",
    "svm.fit(X_train, y_train)\n",
    "svm_pred = svm.predict(X_test)"
   ]
  },
  {
   "cell_type": "code",
   "execution_count": 23,
   "metadata": {},
   "outputs": [
    {
     "name": "stdout",
     "output_type": "stream",
     "text": [
      "                 precision    recall  f1-score   support\n",
      "\n",
      "           call       0.99      0.99      0.99       287\n",
      "        dislike       0.99      1.00      0.99       260\n",
      "           fist       0.99      0.99      0.99       209\n",
      "           four       0.97      0.99      0.98       325\n",
      "           like       1.00      1.00      1.00       304\n",
      "           mute       0.96      0.97      0.96       195\n",
      "             ok       0.99      0.99      0.99       340\n",
      "            one       0.96      0.96      0.96       248\n",
      "           palm       0.98      0.98      0.98       317\n",
      "          peace       0.97      0.98      0.98       276\n",
      " peace_inverted       0.99      0.97      0.98       307\n",
      "           rock       1.00      0.99      0.99       290\n",
      "           stop       0.96      0.97      0.97       293\n",
      "  stop_inverted       0.98      0.98      0.98       309\n",
      "          three       0.99      0.96      0.98       298\n",
      "         three2       0.99      1.00      1.00       331\n",
      "         two_up       0.99      0.99      0.99       267\n",
      "two_up_inverted       0.99      0.99      0.99       279\n",
      "\n",
      "       accuracy                           0.98      5135\n",
      "      macro avg       0.98      0.98      0.98      5135\n",
      "   weighted avg       0.98      0.98      0.98      5135\n",
      "\n"
     ]
    }
   ],
   "source": [
    "print(classification_report(y_test, svm_pred))"
   ]
  },
  {
   "cell_type": "markdown",
   "metadata": {},
   "source": [
    "## 5.2 Decision Tree"
   ]
  },
  {
   "cell_type": "code",
   "execution_count": 24,
   "metadata": {},
   "outputs": [],
   "source": [
    "dtc = DecisionTreeClassifier()\n",
    "dtc.fit(X_train, y_train)\n",
    "dtc_pred = dtc.predict(X_test)"
   ]
  },
  {
   "cell_type": "code",
   "execution_count": 25,
   "metadata": {},
   "outputs": [
    {
     "name": "stdout",
     "output_type": "stream",
     "text": [
      "                 precision    recall  f1-score   support\n",
      "\n",
      "           call       0.98      0.97      0.98       287\n",
      "        dislike       1.00      0.99      0.99       260\n",
      "           fist       0.99      0.98      0.98       209\n",
      "           four       0.93      0.93      0.93       325\n",
      "           like       0.99      0.98      0.99       304\n",
      "           mute       0.88      0.89      0.88       195\n",
      "             ok       0.98      0.97      0.97       340\n",
      "            one       0.88      0.91      0.89       248\n",
      "           palm       0.93      0.94      0.94       317\n",
      "          peace       0.90      0.89      0.90       276\n",
      " peace_inverted       0.90      0.93      0.92       307\n",
      "           rock       0.99      0.97      0.98       290\n",
      "           stop       0.88      0.88      0.88       293\n",
      "  stop_inverted       0.91      0.91      0.91       309\n",
      "          three       0.96      0.96      0.96       298\n",
      "         three2       0.98      0.98      0.98       331\n",
      "         two_up       0.91      0.93      0.92       267\n",
      "two_up_inverted       0.89      0.88      0.89       279\n",
      "\n",
      "       accuracy                           0.94      5135\n",
      "      macro avg       0.94      0.94      0.94      5135\n",
      "   weighted avg       0.94      0.94      0.94      5135\n",
      "\n"
     ]
    }
   ],
   "source": [
    "print(classification_report(y_test, dtc_pred))"
   ]
  },
  {
   "cell_type": "markdown",
   "metadata": {},
   "source": [
    "## 5.3 Random Forest"
   ]
  },
  {
   "cell_type": "code",
   "execution_count": 26,
   "metadata": {},
   "outputs": [],
   "source": [
    "rnf = RandomForestClassifier(n_estimators=150, min_samples_split=2, max_depth=None)\n",
    "rnf.fit(X_train, y_train)\n",
    "rnf_pred = rnf.predict(X_test)"
   ]
  },
  {
   "cell_type": "code",
   "execution_count": 27,
   "metadata": {},
   "outputs": [
    {
     "name": "stdout",
     "output_type": "stream",
     "text": [
      "                 precision    recall  f1-score   support\n",
      "\n",
      "           call       0.99      0.99      0.99       287\n",
      "        dislike       1.00      0.99      1.00       260\n",
      "           fist       0.99      0.99      0.99       209\n",
      "           four       0.96      0.97      0.97       325\n",
      "           like       1.00      0.99      1.00       304\n",
      "           mute       0.94      0.96      0.95       195\n",
      "             ok       0.98      0.99      0.99       340\n",
      "            one       0.96      0.96      0.96       248\n",
      "           palm       0.98      0.98      0.98       317\n",
      "          peace       0.94      0.95      0.95       276\n",
      " peace_inverted       0.97      0.96      0.97       307\n",
      "           rock       1.00      0.98      0.99       290\n",
      "           stop       0.93      0.96      0.94       293\n",
      "  stop_inverted       0.95      0.95      0.95       309\n",
      "          three       0.99      0.95      0.97       298\n",
      "         three2       0.98      1.00      0.99       331\n",
      "         two_up       0.96      0.97      0.96       267\n",
      "two_up_inverted       0.99      0.96      0.97       279\n",
      "\n",
      "       accuracy                           0.97      5135\n",
      "      macro avg       0.97      0.97      0.97      5135\n",
      "   weighted avg       0.97      0.97      0.97      5135\n",
      "\n"
     ]
    }
   ],
   "source": [
    "print(classification_report(y_test, rnf_pred))"
   ]
  },
  {
   "cell_type": "markdown",
   "metadata": {},
   "source": [
    "## 5.4 XGBoost"
   ]
  },
  {
   "cell_type": "code",
   "execution_count": 28,
   "metadata": {},
   "outputs": [],
   "source": [
    "lb = LabelEncoder()\n",
    "encoded_label = lb.fit_transform(y_train)"
   ]
  },
  {
   "cell_type": "code",
   "execution_count": 29,
   "metadata": {},
   "outputs": [],
   "source": [
    "xgb = XGBClassifier()\n",
    "xgb.fit(X_train, encoded_label)\n",
    "xgb_pred = xgb.predict(X_test)"
   ]
  },
  {
   "cell_type": "code",
   "execution_count": 30,
   "metadata": {},
   "outputs": [
    {
     "name": "stdout",
     "output_type": "stream",
     "text": [
      "              precision    recall  f1-score   support\n",
      "\n",
      "           0       0.99      0.99      0.99       287\n",
      "           1       1.00      0.99      1.00       260\n",
      "           2       1.00      0.99      0.99       209\n",
      "           3       0.97      0.98      0.97       325\n",
      "           4       1.00      1.00      1.00       304\n",
      "           5       0.95      0.96      0.95       195\n",
      "           6       0.99      0.99      0.99       340\n",
      "           7       0.95      0.95      0.95       248\n",
      "           8       0.99      0.98      0.99       317\n",
      "           9       0.95      0.97      0.96       276\n",
      "          10       0.97      0.96      0.97       307\n",
      "          11       0.99      0.99      0.99       290\n",
      "          12       0.95      0.96      0.95       293\n",
      "          13       0.97      0.96      0.96       309\n",
      "          14       0.98      0.96      0.97       298\n",
      "          15       0.99      1.00      0.99       331\n",
      "          16       0.98      0.98      0.98       267\n",
      "          17       0.97      0.97      0.97       279\n",
      "\n",
      "    accuracy                           0.98      5135\n",
      "   macro avg       0.98      0.98      0.98      5135\n",
      "weighted avg       0.98      0.98      0.98      5135\n",
      "\n"
     ]
    }
   ],
   "source": [
    "print(classification_report(lb.fit_transform(y_test), xgb_pred))"
   ]
  },
  {
   "cell_type": "markdown",
   "metadata": {},
   "source": [
    "The best model is XGBoost."
   ]
  },
  {
   "cell_type": "markdown",
   "metadata": {},
   "source": [
    "# 6. Save pkls"
   ]
  },
  {
   "cell_type": "code",
   "execution_count": 49,
   "metadata": {},
   "outputs": [
    {
     "data": {
      "text/plain": [
       "['chekpoints/label_encoder.pkl']"
      ]
     },
     "execution_count": 49,
     "metadata": {},
     "output_type": "execute_result"
    }
   ],
   "source": [
    "joblib.dump(lb, 'chekpoints/label_encoder.pkl')"
   ]
  },
  {
   "cell_type": "code",
   "execution_count": 50,
   "metadata": {},
   "outputs": [
    {
     "data": {
      "text/plain": [
       "['chekpoints/xgb_model.pkl']"
      ]
     },
     "execution_count": 50,
     "metadata": {},
     "output_type": "execute_result"
    }
   ],
   "source": [
    "joblib.dump(xgb, 'chekpoints/xgb_model.pkl')"
   ]
  },
  {
   "cell_type": "code",
   "execution_count": 59,
   "metadata": {},
   "outputs": [
    {
     "data": {
      "text/plain": [
       "['chekpoints/rnf_model.pkl']"
      ]
     },
     "execution_count": 59,
     "metadata": {},
     "output_type": "execute_result"
    }
   ],
   "source": [
    "joblib.dump(rnf, 'chekpoints/rnf_model.pkl')"
   ]
  },
  {
   "cell_type": "code",
   "execution_count": 46,
   "metadata": {},
   "outputs": [],
   "source": [
    "# # Training normalizer\n",
    "# def preprocess_landmarks(landmarks):\n",
    "#     coords = np.array(landmarks).reshape(-1, 3)\n",
    "#     wrist = coords[0][:2]\n",
    "#     mid_tip = coords[12][:2]\n",
    "#     scale = np.linalg.norm(mid_tip - wrist)\n",
    "#     coords[:, :2] = (coords[:, :2] - wrist) / (scale + 1e-6)\n",
    "#     return coords.flatten()"
   ]
  },
  {
   "cell_type": "code",
   "execution_count": 45,
   "metadata": {},
   "outputs": [],
   "source": [
    "# # MediaPipe setup\n",
    "# mp_hands = mp.solutions.hands\n",
    "# hands = mp_hands.Hands(static_image_mode=False,\n",
    "#                        max_num_hands=1,\n",
    "#                        min_detection_confidence=0.5)\n",
    "# mp_drawing = mp.solutions.drawing_utils\n",
    "\n",
    "\n",
    "# # Open webcam\n",
    "# cap = cv2.VideoCapture(0)\n",
    "\n",
    "# try:\n",
    "#     while True:\n",
    "#         ret, frame = cap.read()\n",
    "#         if not ret:\n",
    "#             break\n",
    "\n",
    "#         # Flip and convert to RGB\n",
    "#         image = cv2.flip(frame, 1)\n",
    "#         image_rgb = cv2.cvtColor(image, cv2.COLOR_BGR2RGB)\n",
    "\n",
    "#         result = hands.process(image_rgb)\n",
    "\n",
    "#         if result.multi_hand_landmarks:\n",
    "#             for hand_landmarks in result.multi_hand_landmarks:\n",
    "#                 landmarks = []\n",
    "#                 for lm in hand_landmarks.landmark:\n",
    "#                     h, w, _ = image.shape\n",
    "#                     landmarks.append([lm.x * w, lm.y * h, lm.z])\n",
    "\n",
    "#                 processed = preprocess_landmarks(landmarks)\n",
    "#                 # Remove Zs components\n",
    "#                 processed = processed.reshape(-1,3)[:,:2].flatten()\n",
    "#                 # Remove wrist point\n",
    "#                 processed = processed[2:].reshape(1, -1)\n",
    "#                 prediction = rnf.predict(processed)[0]\n",
    "\n",
    "#                 # Draw landmarks & prediction\n",
    "#                 mp_drawing.draw_landmarks(image, hand_landmarks, mp_hands.HAND_CONNECTIONS)\n",
    "#                 # prediction = lb.inverse_transform(prediction)\n",
    "#                 cv2.putText(image, f'Gesture: {prediction}', (10, 50),\n",
    "#                             cv2.FONT_HERSHEY_SIMPLEX, 1.2, (0, 255, 0), 3)\n",
    "\n",
    "#         cv2.imshow('Hand Gesture Prediction', image)\n",
    "#         if cv2.waitKey(1) & 0xFF == ord('q'):\n",
    "#             break\n",
    "# finally:\n",
    "#     cap.release()\n",
    "#     cv2.destroyAllWindows()\n"
   ]
  },
  {
   "cell_type": "code",
   "execution_count": null,
   "metadata": {},
   "outputs": [],
   "source": []
  }
 ],
 "metadata": {
  "kernelspec": {
   "display_name": "mediapipe",
   "language": "python",
   "name": "python3"
  },
  "language_info": {
   "codemirror_mode": {
    "name": "ipython",
    "version": 3
   },
   "file_extension": ".py",
   "mimetype": "text/x-python",
   "name": "python",
   "nbconvert_exporter": "python",
   "pygments_lexer": "ipython3",
   "version": "3.9.21"
  }
 },
 "nbformat": 4,
 "nbformat_minor": 2
}
